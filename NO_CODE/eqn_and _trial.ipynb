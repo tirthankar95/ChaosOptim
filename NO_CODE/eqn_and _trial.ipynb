{
 "cells": [
  {
   "cell_type": "markdown",
   "metadata": {},
   "source": [
    "`The diagram DNN optimization landscape, is the loss function`\n",
    "\n",
    "$Loss = \\frac{1}{m} \\cdot \\sum_{i=0}^{m} (Y_i - f(x_{i1},x_{i2},..x_{iN}))^2$\n",
    "\n",
    "$Loss = g(w_1, b_1, w_2, b_2,...w_N, b_N) + c$\n",
    "\n",
    "` Loss is a function of neural network weights & bias terms & a constant$.`"
   ]
  },
  {
   "cell_type": "markdown",
   "metadata": {},
   "source": [
    "`Now let's look at the update rule`\n",
    "\n",
    "`Update Rule`\n",
    "\n",
    "$w_j^{i+1} = w_j^{i} - \\alpha \\cdot \\frac{\\partial g(...)}{\\partial w_j}$\n",
    "\n",
    "$b_j^{i+1} = b_j^{i} - \\alpha \\cdot \\frac{\\partial g(...)}{\\partial b_j}$\n",
    "\n",
    "$\\forall j \\epsilon \\{1, 2, ... N\\}$; \n",
    "i-th iteration"
   ]
  },
  {
   "cell_type": "markdown",
   "metadata": {},
   "source": [
    "$dw_j = - dt \\cdot  \\frac{\\partial g(...)}{\\partial w_j}$\n",
    "\n",
    "$\\frac{dw_j}{dt} = - \\frac{\\partial g(...)}{\\partial w_j}$"
   ]
  },
  {
   "cell_type": "markdown",
   "metadata": {},
   "source": [
    "---"
   ]
  },
  {
   "cell_type": "markdown",
   "metadata": {},
   "source": [
    "**ODE ~ 2 state variables**"
   ]
  },
  {
   "cell_type": "markdown",
   "metadata": {},
   "source": [
    "$\\frac{dx}{dt} = a\\cdot x + b\\cdot y$\n",
    "\n",
    "$\\frac{dy}{dt} = c\\cdot x + d\\cdot y$"
   ]
  },
  {
   "cell_type": "markdown",
   "metadata": {},
   "source": []
  },
  {
   "cell_type": "markdown",
   "metadata": {},
   "source": [
    "---"
   ]
  },
  {
   "cell_type": "code",
   "execution_count": 1,
   "metadata": {},
   "outputs": [],
   "source": [
    "import torch.nn as nn"
   ]
  }
 ],
 "metadata": {
  "kernelspec": {
   "display_name": "base",
   "language": "python",
   "name": "python3"
  },
  "language_info": {
   "codemirror_mode": {
    "name": "ipython",
    "version": 3
   },
   "file_extension": ".py",
   "mimetype": "text/x-python",
   "name": "python",
   "nbconvert_exporter": "python",
   "pygments_lexer": "ipython3",
   "version": "3.11.7"
  }
 },
 "nbformat": 4,
 "nbformat_minor": 2
}
